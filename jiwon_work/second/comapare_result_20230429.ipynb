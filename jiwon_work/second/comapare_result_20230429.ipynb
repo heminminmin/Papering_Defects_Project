{
 "cells": [
  {
   "cell_type": "code",
   "execution_count": 6,
   "metadata": {},
   "outputs": [
    {
     "name": "stdout",
     "output_type": "stream",
     "text": [
      "count : 322\n"
     ]
    }
   ],
   "source": [
    "import pandas as pd\n",
    "import os\n",
    "\n",
    "# ======== 기존 제출 파일과 데이터 비교해보기 ========\n",
    "\n",
    "# 디폴트 : '훼손'\n",
    "SAMPLE_CSV_FILE_NAME = 'sample_submission.csv'\n",
    "sample_csv = pd.read_csv(os.path.join(os.path.pardir, os.path.pardir, 'open', SAMPLE_CSV_FILE_NAME))\n",
    "\n",
    "# count : 250\n",
    "# PREV_CSV_FILE_NAME = 'test_20230429_023516.csv'\n",
    "\n",
    "# count : 322\n",
    "PREV_CSV_FILE_NAME = 'test_20230429_101620.csv'\n",
    "prev_csv = pd.read_csv(os.path.join(os.path.pardir, 'first', PREV_CSV_FILE_NAME))\n",
    "\n",
    "CURRENT_CSV_FILE_NAME = ''\n",
    "curr_csv = pd.read_csv(os.path.join(os.path.pardir, 'first', PREV_CSV_FILE_NAME))\n",
    "\n",
    "count = 0\n",
    "total_label_count = len(sample_csv['label'])\n",
    "\n",
    "for index in range(total_label_count):\n",
    "\n",
    "    is_changing = sample_csv['label'][index] != prev_csv['label'][index]\n",
    "    if is_changing:\n",
    "        count += 1\n",
    "\n",
    "# 달라진 라벨의 개수\n",
    "print('count :', count)\n",
    "\n",
    "# =================================================="
   ]
  }
 ],
 "metadata": {
  "kernelspec": {
   "display_name": "Python 3",
   "language": "python",
   "name": "python3"
  },
  "language_info": {
   "codemirror_mode": {
    "name": "ipython",
    "version": 3
   },
   "file_extension": ".py",
   "mimetype": "text/x-python",
   "name": "python",
   "nbconvert_exporter": "python",
   "pygments_lexer": "ipython3",
   "version": "3.10.10"
  },
  "orig_nbformat": 4
 },
 "nbformat": 4,
 "nbformat_minor": 2
}
